{
 "cells": [
  {
   "cell_type": "code",
   "execution_count": 13,
   "id": "e9b6f1f8-4160-4e9d-b9ef-02397fe68f28",
   "metadata": {},
   "outputs": [],
   "source": [
    "from tensorflow import keras\n",
    "import pathlib\n",
    "import numpy as np\n",
    "import pandas as pd\n",
    "import matplotlib.pyplot as plt\n",
    "from keras import utils\n",
    "import tensorflow"
   ]
  },
  {
   "cell_type": "code",
   "execution_count": 5,
   "id": "a3d5fa94-5ab6-424f-9a15-9c3cf7807a4f",
   "metadata": {},
   "outputs": [],
   "source": [
    "data_dir = pathlib.Path(\"FMD_DATASET\")"
   ]
  },
  {
   "cell_type": "code",
   "execution_count": 53,
   "id": "f0a248e9-0bdf-49d3-9b1e-820f6efecd40",
   "metadata": {},
   "outputs": [
    {
     "name": "stdout",
     "output_type": "stream",
     "text": [
      "Found 14538 files belonging to 3 classes.\n",
      "Using 11631 files for training.\n",
      "Found 14538 files belonging to 3 classes.\n",
      "Using 2907 files for validation.\n"
     ]
    }
   ],
   "source": [
    "train_set = keras.utils.image_dataset_from_directory(\n",
    "    data_dir,\n",
    "    labels = 'inferred',\n",
    "    label_mode = 'int',\n",
    "    color_mode = 'rgb',\n",
    "    batch_size=32,\n",
    "    image_size=(256, 256),\n",
    "    shuffle=True,\n",
    "    seed=123,\n",
    "    validation_split=0.2,\n",
    "    subset='training',\n",
    "    interpolation=\"bilinear\",\n",
    "    follow_links=False,\n",
    "    crop_to_aspect_ratio=True,  \n",
    ")\n",
    "test_set = keras.utils.image_dataset_from_directory(\n",
    "    data_dir,\n",
    "    labels = 'inferred',\n",
    "    label_mode = 'int',\n",
    "    color_mode = 'rgb',\n",
    "    batch_size=32,\n",
    "    image_size=(256, 256),\n",
    "    shuffle=True,\n",
    "    seed=123,\n",
    "    validation_split=0.2,\n",
    "    subset='validation',\n",
    "    interpolation=\"bilinear\",\n",
    "    follow_links=False,\n",
    "    crop_to_aspect_ratio=True,\n",
    "    \n",
    "    \n",
    "    \n",
    ")"
   ]
  },
  {
   "cell_type": "code",
   "execution_count": 81,
   "id": "de724f15-3324-4fe5-8a23-3bc312fd2ab0",
   "metadata": {},
   "outputs": [],
   "source": [
    "lab = [[x,y] for x,y in test_set]"
   ]
  },
  {
   "cell_type": "code",
   "execution_count": 118,
   "id": "ea310ab7-1cf5-4f27-871a-e3231fe456d7",
   "metadata": {},
   "outputs": [],
   "source": [
    "y_true = lab[0][1]\n",
    "x_test = lab[0][0]\n",
    "for i in range(1,len(lab)):\n",
    "    y_true = tensorflow.concat([y_true,lab[i][1]], axis =0 )\n",
    "    x_test = tensorflow.concat([x_test,lab[i][0]], axis = 0)"
   ]
  },
  {
   "cell_type": "code",
   "execution_count": 9,
   "id": "7d4c670d-be08-4cff-9dab-432e35d089aa",
   "metadata": {},
   "outputs": [],
   "source": [
    "model = keras.models.load_model('maski')"
   ]
  },
  {
   "cell_type": "code",
   "execution_count": 11,
   "id": "d3b99e68-8792-43de-bf41-be2fb27897c5",
   "metadata": {},
   "outputs": [
    {
     "name": "stdout",
     "output_type": "stream",
     "text": [
      "Model: \"sequential_2\"\n",
      "_________________________________________________________________\n",
      " Layer (type)                Output Shape              Param #   \n",
      "=================================================================\n",
      " separable_conv2d_12 (Separa  (None, 256, 256, 64)     331       \n",
      " bleConv2D)                                                      \n",
      "                                                                 \n",
      " separable_conv2d_13 (Separa  (None, 256, 256, 64)     5760      \n",
      " bleConv2D)                                                      \n",
      "                                                                 \n",
      " max_pooling2d_6 (MaxPooling  (None, 128, 128, 64)     0         \n",
      " 2D)                                                             \n",
      "                                                                 \n",
      " batch_normalization_6 (Batc  (None, 128, 128, 64)     256       \n",
      " hNormalization)                                                 \n",
      "                                                                 \n",
      " separable_conv2d_14 (Separa  (None, 128, 128, 64)     4736      \n",
      " bleConv2D)                                                      \n",
      "                                                                 \n",
      " separable_conv2d_15 (Separa  (None, 128, 128, 64)     4736      \n",
      " bleConv2D)                                                      \n",
      "                                                                 \n",
      " max_pooling2d_7 (MaxPooling  (None, 64, 64, 64)       0         \n",
      " 2D)                                                             \n",
      "                                                                 \n",
      " batch_normalization_7 (Batc  (None, 64, 64, 64)       256       \n",
      " hNormalization)                                                 \n",
      "                                                                 \n",
      " separable_conv2d_16 (Separa  (None, 64, 64, 32)       2656      \n",
      " bleConv2D)                                                      \n",
      "                                                                 \n",
      " separable_conv2d_17 (Separa  (None, 64, 64, 32)       1344      \n",
      " bleConv2D)                                                      \n",
      "                                                                 \n",
      " max_pooling2d_8 (MaxPooling  (None, 32, 32, 32)       0         \n",
      " 2D)                                                             \n",
      "                                                                 \n",
      " batch_normalization_8 (Batc  (None, 32, 32, 32)       128       \n",
      " hNormalization)                                                 \n",
      "                                                                 \n",
      " flatten_2 (Flatten)         (None, 32768)             0         \n",
      "                                                                 \n",
      " dense_6 (Dense)             (None, 1024)              33555456  \n",
      "                                                                 \n",
      " dropout_2 (Dropout)         (None, 1024)              0         \n",
      "                                                                 \n",
      " dense_7 (Dense)             (None, 128)               131200    \n",
      "                                                                 \n",
      " dense_8 (Dense)             (None, 3)                 387       \n",
      "                                                                 \n",
      "=================================================================\n",
      "Total params: 33,707,246\n",
      "Trainable params: 33,706,926\n",
      "Non-trainable params: 320\n",
      "_________________________________________________________________\n"
     ]
    }
   ],
   "source": [
    "model.summary()"
   ]
  },
  {
   "cell_type": "code",
   "execution_count": 120,
   "id": "85dcc63f-f899-4327-b317-7838bb5ac55d",
   "metadata": {},
   "outputs": [
    {
     "name": "stdout",
     "output_type": "stream",
     "text": [
      "91/91 [==============================] - 91s 725ms/step\n"
     ]
    }
   ],
   "source": [
    "y_pred = model.predict(x_test)"
   ]
  },
  {
   "cell_type": "code",
   "execution_count": 121,
   "id": "d3acae82-0ab1-4409-ae9c-7eb2c7b2289b",
   "metadata": {},
   "outputs": [],
   "source": [
    "y_pred1 = np.argmax(y_pred, axis = 1)"
   ]
  },
  {
   "cell_type": "code",
   "execution_count": 122,
   "id": "f74e55e0-974b-49c1-b29e-2e0ad6c1cd6c",
   "metadata": {},
   "outputs": [],
   "source": [
    "from sklearn.metrics import classification_report"
   ]
  },
  {
   "cell_type": "code",
   "execution_count": 123,
   "id": "00e3b94d-b464-47b6-9bb5-6d52c399cd14",
   "metadata": {},
   "outputs": [
    {
     "name": "stdout",
     "output_type": "stream",
     "text": [
      "              precision    recall  f1-score   support\n",
      "\n",
      "           0       0.99      0.98      0.99      1012\n",
      "           1       0.98      0.95      0.97       942\n",
      "           2       0.95      0.99      0.97       953\n",
      "\n",
      "    accuracy                           0.97      2907\n",
      "   macro avg       0.97      0.97      0.97      2907\n",
      "weighted avg       0.97      0.97      0.97      2907\n",
      "\n"
     ]
    }
   ],
   "source": [
    "print(classification_report(y_true,y_pred1))"
   ]
  },
  {
   "cell_type": "code",
   "execution_count": 124,
   "id": "72950097-136b-4578-87dc-b2321fe0c6a2",
   "metadata": {},
   "outputs": [],
   "source": [
    "from sklearn.metrics import confusion_matrix, ConfusionMatrixDisplay"
   ]
  },
  {
   "cell_type": "code",
   "execution_count": 125,
   "id": "690dc43c-afc0-403d-b9fe-42348ae3c415",
   "metadata": {},
   "outputs": [
    {
     "data": {
      "image/png": "[encoded data removed]",
      "text/plain": [
       "<Figure size 432x288 with 2 Axes>"
      ]
     },
     "metadata": {
      "needs_background": "light"
     },
     "output_type": "display_data"
    }
   ],
   "source": [
    "disp = ConfusionMatrixDisplay(confusion_matrix(y_true,y_pred1))\n",
    "\n",
    "disp.plot()\n",
    "plt.show()"
   ]
  }
 ],
 "metadata": {
  "kernelspec": {
   "display_name": "Python 3 (ipykernel)",
   "language": "python",
   "name": "python3"
  },
  "language_info": {
   "codemirror_mode": {
    "name": "ipython",
    "version": 3
   },
   "file_extension": ".py",
   "mimetype": "text/x-python",
   "name": "python",
   "nbconvert_exporter": "python",
   "pygments_lexer": "ipython3",
   "version": "3.9.12"
  }
 },
 "nbformat": 4,
 "nbformat_minor": 5
}
