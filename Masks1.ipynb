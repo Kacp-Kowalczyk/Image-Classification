{
 "cells": [
  {
   "cell_type": "code",
   "execution_count": 1,
   "id": "b0d1cf64-45a8-4851-9828-97e151a7d95e",
   "metadata": {},
   "outputs": [],
   "source": [
    "import numpy as np\n",
    "import pandas as pd\n",
    "import matplotlib.pyplot as plt"
   ]
  },
  {
   "cell_type": "code",
   "execution_count": 2,
   "id": "3e3b72a6-9107-47b9-b68c-c730a6245a57",
   "metadata": {},
   "outputs": [],
   "source": [
    "import tensorflow\n",
    "from tensorflow import keras"
   ]
  },
  {
   "cell_type": "code",
   "execution_count": 3,
   "id": "bfdf75c2-91e1-48aa-8c1e-2ea601f3c8bb",
   "metadata": {},
   "outputs": [],
   "source": [
    "from keras.models import Sequential"
   ]
  },
  {
   "cell_type": "code",
   "execution_count": 35,
   "id": "c1476acb-aba0-4931-b856-ebd5c71474f5",
   "metadata": {},
   "outputs": [],
   "source": [
    "from keras.layers import Dense, Dropout, BatchNormalization, Flatten"
   ]
  },
  {
   "cell_type": "code",
   "execution_count": 5,
   "id": "3070269a-3254-4fb1-a6ff-2225563d5817",
   "metadata": {},
   "outputs": [],
   "source": [
    "from keras.layers import Conv2D, SeparableConv2D, MaxPooling2D, AveragePooling2D"
   ]
  },
  {
   "cell_type": "code",
   "execution_count": 21,
   "id": "52454057-26ae-44ed-8167-398eb20403be",
   "metadata": {},
   "outputs": [],
   "source": [
    "import pathlib\n",
    "data_dir = pathlib.Path(\"FMD_DATASET\")\n"
   ]
  },
  {
   "cell_type": "code",
   "execution_count": 27,
   "id": "48c822df-6397-46a8-92f9-4dcb64dd20e3",
   "metadata": {},
   "outputs": [],
   "source": [
    "from keras import utils"
   ]
  },
  {
   "cell_type": "code",
   "execution_count": 152,
   "id": "19c21245-d3e7-4d9a-8508-db1870b7b184",
   "metadata": {},
   "outputs": [
    {
     "name": "stdout",
     "output_type": "stream",
     "text": [
      "Found 14538 files belonging to 3 classes.\n",
      "Using 11631 files for training.\n",
      "Found 14538 files belonging to 3 classes.\n",
      "Using 2907 files for validation.\n"
     ]
    }
   ],
   "source": [
    "train_set = tensorflow.keras.utils.image_dataset_from_directory(\n",
    "    data_dir,\n",
    "    labels = 'inferred',\n",
    "    label_mode = 'int',\n",
    "    color_mode = 'rgb',\n",
    "    batch_size=32,\n",
    "    image_size=(256, 256),\n",
    "    shuffle=True,\n",
    "    seed=123,\n",
    "    validation_split=0.2,\n",
    "    subset='training',\n",
    "    interpolation=\"bilinear\",\n",
    "    follow_links=False,\n",
    "    crop_to_aspect_ratio=True,  \n",
    ")\n",
    "test_set = tensorflow.keras.utils.image_dataset_from_directory(\n",
    "    data_dir,\n",
    "    labels = 'inferred',\n",
    "    label_mode = 'int',\n",
    "    color_mode = 'rgb',\n",
    "    batch_size=32,\n",
    "    image_size=(256, 256),\n",
    "    shuffle=True,\n",
    "    seed=123,\n",
    "    validation_split=0.2,\n",
    "    subset='validation',\n",
    "    interpolation=\"bilinear\",\n",
    "    follow_links=False,\n",
    "    crop_to_aspect_ratio=True,\n",
    "    \n",
    "    \n",
    "    \n",
    ")"
   ]
  },
  {
   "cell_type": "code",
   "execution_count": 49,
   "id": "8fabcf12-41b3-4048-88e0-07332679fff0",
   "metadata": {},
   "outputs": [],
   "source": [
    "model = Sequential()\n",
    "\n",
    "model.add(SeparableConv2D(filters = 64, kernel_size = (5,5), padding = 'same', activation = 'relu', input_shape = (256, 256 , 3) ))\n",
    "model.add(SeparableConv2D(filters = 64, kernel_size = (5,5), padding = 'same', activation = 'relu'))\n",
    "model.add(MaxPooling2D(pool_size = 2))\n",
    "model.add(BatchNormalization())\n",
    "\n",
    "model.add(SeparableConv2D(filters = 64, kernel_size = (3,3), padding = 'same', activation = 'relu'))\n",
    "model.add(SeparableConv2D(filters = 64, kernel_size = (3,3), padding = 'same', activation = 'relu'))\n",
    "model.add(MaxPooling2D(pool_size = 2))\n",
    "model.add(BatchNormalization())\n",
    "\n",
    "model.add(SeparableConv2D(filters = 32, kernel_size = (3,3), padding = 'same', activation = 'relu'))\n",
    "model.add(SeparableConv2D(filters = 32, kernel_size = (3,3), padding = 'same', activation = 'relu'))\n",
    "model.add(MaxPooling2D(pool_size = 2))\n",
    "model.add(BatchNormalization())\n",
    "\n",
    "model.add(Flatten())\n",
    "\n",
    "model.add(Dense(1024, activation = 'relu'))\n",
    "model.add(Dropout(0.2))\n",
    "model.add(Dense(128, activation = 'relu'))\n",
    "model.add(Dense(3, activation = 'sigmoid'))"
   ]
  },
  {
   "cell_type": "code",
   "execution_count": 50,
   "id": "fe355492-9fd9-461f-b701-f2ca7c659833",
   "metadata": {},
   "outputs": [
    {
     "name": "stdout",
     "output_type": "stream",
     "text": [
      "Model: \"sequential_2\"\n",
      "_________________________________________________________________\n",
      " Layer (type)                Output Shape              Param #   \n",
      "=================================================================\n",
      " separable_conv2d_12 (Separa  (None, 256, 256, 64)     331       \n",
      " bleConv2D)                                                      \n",
      "                                                                 \n",
      " separable_conv2d_13 (Separa  (None, 256, 256, 64)     5760      \n",
      " bleConv2D)                                                      \n",
      "                                                                 \n",
      " max_pooling2d_6 (MaxPooling  (None, 128, 128, 64)     0         \n",
      " 2D)                                                             \n",
      "                                                                 \n",
      " batch_normalization_6 (Batc  (None, 128, 128, 64)     256       \n",
      " hNormalization)                                                 \n",
      "                                                                 \n",
      " separable_conv2d_14 (Separa  (None, 128, 128, 64)     4736      \n",
      " bleConv2D)                                                      \n",
      "                                                                 \n",
      " separable_conv2d_15 (Separa  (None, 128, 128, 64)     4736      \n",
      " bleConv2D)                                                      \n",
      "                                                                 \n",
      " max_pooling2d_7 (MaxPooling  (None, 64, 64, 64)       0         \n",
      " 2D)                                                             \n",
      "                                                                 \n",
      " batch_normalization_7 (Batc  (None, 64, 64, 64)       256       \n",
      " hNormalization)                                                 \n",
      "                                                                 \n",
      " separable_conv2d_16 (Separa  (None, 64, 64, 32)       2656      \n",
      " bleConv2D)                                                      \n",
      "                                                                 \n",
      " separable_conv2d_17 (Separa  (None, 64, 64, 32)       1344      \n",
      " bleConv2D)                                                      \n",
      "                                                                 \n",
      " max_pooling2d_8 (MaxPooling  (None, 32, 32, 32)       0         \n",
      " 2D)                                                             \n",
      "                                                                 \n",
      " batch_normalization_8 (Batc  (None, 32, 32, 32)       128       \n",
      " hNormalization)                                                 \n",
      "                                                                 \n",
      " flatten_2 (Flatten)         (None, 32768)             0         \n",
      "                                                                 \n",
      " dense_6 (Dense)             (None, 1024)              33555456  \n",
      "                                                                 \n",
      " dropout_2 (Dropout)         (None, 1024)              0         \n",
      "                                                                 \n",
      " dense_7 (Dense)             (None, 128)               131200    \n",
      "                                                                 \n",
      " dense_8 (Dense)             (None, 3)                 387       \n",
      "                                                                 \n",
      "=================================================================\n",
      "Total params: 33,707,246\n",
      "Trainable params: 33,706,926\n",
      "Non-trainable params: 320\n",
      "_________________________________________________________________\n"
     ]
    }
   ],
   "source": [
    "model.summary()"
   ]
  },
  {
   "cell_type": "code",
   "execution_count": 51,
   "id": "874bb0d5-87af-4026-8349-a6856da90166",
   "metadata": {},
   "outputs": [],
   "source": [
    "model.compile(optimizer='adam',\n",
    "              loss=tensorflow.keras.losses.SparseCategoricalCrossentropy(),\n",
    "              metrics=['accuracy'])"
   ]
  },
  {
   "cell_type": "code",
   "execution_count": 52,
   "id": "893150ea-c5e8-449f-a305-60d05115b183",
   "metadata": {},
   "outputs": [
    {
     "name": "stdout",
     "output_type": "stream",
     "text": [
      "Epoch 1/10\n",
      "364/364 [==============================] - 858s 2s/step - loss: 0.2252 - accuracy: 0.9226 - val_loss: 1.1028 - val_accuracy: 0.5889\n",
      "Epoch 2/10\n",
      "364/364 [==============================] - 845s 2s/step - loss: 0.1233 - accuracy: 0.9530 - val_loss: 0.1894 - val_accuracy: 0.9243\n",
      "Epoch 3/10\n",
      "364/364 [==============================] - 1524s 4s/step - loss: 0.0965 - accuracy: 0.9645 - val_loss: 0.2211 - val_accuracy: 0.9295\n",
      "Epoch 4/10\n",
      "364/364 [==============================] - 1670s 5s/step - loss: 0.0816 - accuracy: 0.9737 - val_loss: 0.2059 - val_accuracy: 0.9415\n",
      "Epoch 5/10\n",
      "364/364 [==============================] - 1663s 5s/step - loss: 0.0605 - accuracy: 0.9782 - val_loss: 0.6147 - val_accuracy: 0.8125\n",
      "Epoch 6/10\n",
      "364/364 [==============================] - 1665s 5s/step - loss: 0.0354 - accuracy: 0.9871 - val_loss: 0.3532 - val_accuracy: 0.9188\n",
      "Epoch 7/10\n",
      "364/364 [==============================] - 1545s 4s/step - loss: 0.0486 - accuracy: 0.9840 - val_loss: 0.2635 - val_accuracy: 0.9112\n",
      "Epoch 8/10\n",
      "364/364 [==============================] - 1389s 4s/step - loss: 0.0450 - accuracy: 0.9887 - val_loss: 0.6406 - val_accuracy: 0.8992\n",
      "Epoch 9/10\n",
      "364/364 [==============================] - 1350s 4s/step - loss: 0.0189 - accuracy: 0.9937 - val_loss: 0.3187 - val_accuracy: 0.9364\n",
      "Epoch 10/10\n",
      "364/364 [==============================] - 1626s 4s/step - loss: 0.0169 - accuracy: 0.9941 - val_loss: 0.2502 - val_accuracy: 0.9412\n"
     ]
    },
    {
     "data": {
      "text/plain": [
       "<keras.callbacks.History at 0x2150210af10>"
      ]
     },
     "execution_count": 52,
     "metadata": {},
     "output_type": "execute_result"
    }
   ],
   "source": [
    "model.fit(train_set, validation_data = test_set ,epochs = 10)"
   ]
  },
  {
   "cell_type": "code",
   "execution_count": 53,
   "id": "86d9daf1-e011-4edc-a8d0-1eef0b436e91",
   "metadata": {},
   "outputs": [
    {
     "name": "stdout",
     "output_type": "stream",
     "text": [
      "INFO:tensorflow:Assets written to: maski\\assets\n"
     ]
    }
   ],
   "source": [
    "model.save(\"maski\")"
   ]
  }
 ],
 "metadata": {
  "kernelspec": {
   "display_name": "Python 3 (ipykernel)",
   "language": "python",
   "name": "python3"
  },
  "language_info": {
   "codemirror_mode": {
    "name": "ipython",
    "version": 3
   },
   "file_extension": ".py",
   "mimetype": "text/x-python",
   "name": "python",
   "nbconvert_exporter": "python",
   "pygments_lexer": "ipython3",
   "version": "3.9.12"
  }
 },
 "nbformat": 4,
 "nbformat_minor": 5
}
